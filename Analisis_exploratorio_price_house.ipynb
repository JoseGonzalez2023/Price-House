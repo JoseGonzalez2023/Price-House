{
  "nbformat": 4,
  "nbformat_minor": 0,
  "metadata": {
    "colab": {
      "provenance": [],
      "authorship_tag": "ABX9TyOaJh1RhyFvu4h2YgIsaybs",
      "include_colab_link": true
    },
    "kernelspec": {
      "name": "python3",
      "display_name": "Python 3"
    },
    "language_info": {
      "name": "python"
    }
  },
  "cells": [
    {
      "cell_type": "markdown",
      "metadata": {
        "id": "view-in-github",
        "colab_type": "text"
      },
      "source": [
        "<a href=\"https://colab.research.google.com/github/JoseGonzalez2023/Price-House/blob/main/Analisis_exploratorio_price_house.ipynb\" target=\"_parent\"><img src=\"https://colab.research.google.com/assets/colab-badge.svg\" alt=\"Open In Colab\"/></a>"
      ]
    },
    {
      "cell_type": "markdown",
      "source": [
        "# **1 DESCRIPCIÓN DEL PROBLEMA**"
      ],
      "metadata": {
        "id": "YxvVkXSsMGgX"
      }
    },
    {
      "cell_type": "markdown",
      "source": [
        "## **Importar Librerias**"
      ],
      "metadata": {
        "id": "rXna_683MwT1"
      }
    },
    {
      "cell_type": "code",
      "source": [
        "import pandas as pd\n",
        "import numpy as np\n",
        "import matplotlib.pyplot as plt\n",
        "import seaborn as sns"
      ],
      "metadata": {
        "id": "MR3JjBTEM7vS"
      },
      "execution_count": 2,
      "outputs": []
    },
    {
      "cell_type": "markdown",
      "source": [
        "## **Importación de Datos**"
      ],
      "metadata": {
        "id": "QyXZMFXvN8vg"
      }
    },
    {
      "cell_type": "code",
      "source": [
        "df = pd.read_csv(\"https://raw.githubusercontent.com/JoseGonzalez2023/Price-House/main/train.csv\")"
      ],
      "metadata": {
        "id": "0Hc_rCp2MAHN"
      },
      "execution_count": 3,
      "outputs": []
    },
    {
      "cell_type": "code",
      "source": [
        "df.shape"
      ],
      "metadata": {
        "colab": {
          "base_uri": "https://localhost:8080/"
        },
        "id": "DmSPzOAfOfFq",
        "outputId": "6997e439-df4e-49db-bbaf-0178f7976155"
      },
      "execution_count": 4,
      "outputs": [
        {
          "output_type": "execute_result",
          "data": {
            "text/plain": [
              "(1460, 81)"
            ]
          },
          "metadata": {},
          "execution_count": 4
        }
      ]
    },
    {
      "cell_type": "markdown",
      "source": [
        "## **Importar datos de prueba**"
      ],
      "metadata": {
        "id": "I1IT4mXHOuqM"
      }
    },
    {
      "cell_type": "code",
      "source": [
        "df_test=pd.read_csv(\"https://raw.githubusercontent.com/JoseGonzalez2023/Price-House/main/test.csv\")"
      ],
      "metadata": {
        "id": "74Q_4LDgO5-y"
      },
      "execution_count": 5,
      "outputs": []
    },
    {
      "cell_type": "code",
      "source": [
        "df_test.shape"
      ],
      "metadata": {
        "colab": {
          "base_uri": "https://localhost:8080/"
        },
        "id": "4dFfB76sPzG6",
        "outputId": "9f406aa1-7b72-429a-824f-643d1482c897"
      },
      "execution_count": 6,
      "outputs": [
        {
          "output_type": "execute_result",
          "data": {
            "text/plain": [
              "(1459, 80)"
            ]
          },
          "metadata": {},
          "execution_count": 6
        }
      ]
    }
  ]
}